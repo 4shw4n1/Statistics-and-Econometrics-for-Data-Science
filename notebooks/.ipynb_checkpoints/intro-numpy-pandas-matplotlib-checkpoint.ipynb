{
 "cells": [
  {
   "cell_type": "markdown",
   "metadata": {},
   "source": [
    "# Introduction to numpy, pandas and matplotlib"
   ]
  },
  {
   "cell_type": "markdown",
   "metadata": {},
   "source": [
    "If you haven't ever used these libraries before, you can go through this notebook to have a basic idea"
   ]
  },
  {
   "cell_type": "code",
   "execution_count": 2,
   "metadata": {},
   "outputs": [],
   "source": [
    "# importing the necessary libraries\n",
    "import numpy as np\n",
    "import pandas as pd\n",
    "import matplotlib.pyplot as plt\n",
    "\n",
    "# this helps to show the graphs inside the notebbo\n",
    "%matplotlib inline"
   ]
  },
  {
   "cell_type": "code",
   "execution_count": 5,
   "metadata": {},
   "outputs": [],
   "source": [
    "# reading the files\n",
    "# pd.read_csv\n",
    "# pd.read_excel\n",
    "# ..etc\n",
    "\n",
    "# for now I'll make a numpy matrix of random numbers from uniform distribution of size 5 x 4\n",
    "random_matrix = np.random.uniform(low=0, high=10, size=(5,4))"
   ]
  },
  {
   "cell_type": "code",
   "execution_count": 6,
   "metadata": {},
   "outputs": [
    {
     "data": {
      "text/plain": [
       "array([[8.51677901, 0.98904843, 8.00083618, 3.13121623],\n",
       "       [8.9805252 , 1.09122739, 6.04825848, 6.44967519],\n",
       "       [6.73168214, 9.39956961, 5.97508421, 1.18458595],\n",
       "       [9.16614401, 3.1111743 , 6.46966842, 9.84851823],\n",
       "       [5.32514167, 2.98669542, 1.0202569 , 7.919183  ]])"
      ]
     },
     "execution_count": 6,
     "metadata": {},
     "output_type": "execute_result"
    }
   ],
   "source": [
    "# let's see our matrix\n",
    "random_matrix"
   ]
  },
  {
   "cell_type": "code",
   "execution_count": 7,
   "metadata": {},
   "outputs": [
    {
     "data": {
      "text/plain": [
       "(5, 4)"
      ]
     },
     "execution_count": 7,
     "metadata": {},
     "output_type": "execute_result"
    }
   ],
   "source": [
    "# check the shape of the matrix\n",
    "random_matrix.shape"
   ]
  },
  {
   "cell_type": "code",
   "execution_count": 8,
   "metadata": {},
   "outputs": [],
   "source": [
    "# let's make another matrix\n",
    "random_matrix2 = np.random.uniform(low=0, high=5, size = (5,4))"
   ]
  },
  {
   "cell_type": "code",
   "execution_count": 10,
   "metadata": {},
   "outputs": [
    {
     "data": {
      "text/plain": [
       "array([[2.52510705, 4.69515057, 1.28316939, 1.35207398],\n",
       "       [3.03790673, 3.6957004 , 1.21949162, 2.03842744],\n",
       "       [0.99571351, 1.90067655, 2.0161055 , 1.67908351],\n",
       "       [4.2089703 , 4.81613375, 1.46183622, 4.4649748 ],\n",
       "       [4.2532011 , 3.14701653, 1.49609912, 1.50237195]])"
      ]
     },
     "execution_count": 10,
     "metadata": {},
     "output_type": "execute_result"
    }
   ],
   "source": [
    "# let's see the new matrix\n",
    "random_matrix2"
   ]
  },
  {
   "cell_type": "code",
   "execution_count": 9,
   "metadata": {},
   "outputs": [
    {
     "data": {
      "text/plain": [
       "array([[11.04188606,  5.68419899,  9.28400557,  4.48329021],\n",
       "       [12.01843193,  4.78692779,  7.2677501 ,  8.48810263],\n",
       "       [ 7.72739565, 11.30024616,  7.99118971,  2.86366946],\n",
       "       [13.37511431,  7.92730805,  7.93150464, 14.31349302],\n",
       "       [ 9.57834277,  6.13371195,  2.51635603,  9.42155495]])"
      ]
     },
     "execution_count": 9,
     "metadata": {},
     "output_type": "execute_result"
    }
   ],
   "source": [
    "# let's add the two matrices\n",
    "random_matrix + random_matrix2"
   ]
  },
  {
   "cell_type": "code",
   "execution_count": 11,
   "metadata": {},
   "outputs": [
    {
     "data": {
      "text/plain": [
       "array([[851.67790085,  98.90484269, 800.08361815, 313.12162307],\n",
       "       [898.05252008, 109.12273879, 604.82584837, 644.96751899],\n",
       "       [673.16821434, 939.95696097, 597.50842077, 118.45859499],\n",
       "       [916.61440117, 311.11743038, 646.96684231, 984.8518225 ],\n",
       "       [532.51416703, 298.66954201, 102.02569005, 791.91830048]])"
      ]
     },
     "execution_count": 11,
     "metadata": {},
     "output_type": "execute_result"
    }
   ],
   "source": [
    "# maybe we want to multiply the first matrix by a scalar\n",
    "100 * random_matrix"
   ]
  },
  {
   "cell_type": "code",
   "execution_count": 12,
   "metadata": {},
   "outputs": [
    {
     "data": {
      "text/plain": [
       "array([[8.51677901, 8.9805252 , 6.73168214, 9.16614401, 5.32514167],\n",
       "       [0.98904843, 1.09122739, 9.39956961, 3.1111743 , 2.98669542],\n",
       "       [8.00083618, 6.04825848, 5.97508421, 6.46966842, 1.0202569 ],\n",
       "       [3.13121623, 6.44967519, 1.18458595, 9.84851823, 7.919183  ]])"
      ]
     },
     "execution_count": 12,
     "metadata": {},
     "output_type": "execute_result"
    }
   ],
   "source": [
    "# maybe we want to take a transpose of the first matrix\n",
    "random_matrix.T"
   ]
  },
  {
   "cell_type": "code",
   "execution_count": 13,
   "metadata": {},
   "outputs": [
    {
     "data": {
      "text/plain": [
       "array([[ 40.64957409,  45.66811668,  31.74823647,  66.28697308,\n",
       "         56.01042105],\n",
       "       [ 44.28164256,  51.83784287,  34.03957106,  80.69346139,\n",
       "         60.36869561],\n",
       "       [ 70.39930562,  64.88947329,  38.60378731,  87.62677554,\n",
       "         68.93080578],\n",
       "       [ 59.37053241,  67.30905495,  44.62020816, 106.99484077,\n",
       "         73.25177354],\n",
       "       [ 39.48602119,  44.6020899 ,  26.33297262,  73.64808876,\n",
       "         45.47204212]])"
      ]
     },
     "execution_count": 13,
     "metadata": {},
     "output_type": "execute_result"
    }
   ],
   "source": [
    "# if we want to multiply the matrices\n",
    "# you might notice that we had to take the transpose to be consistent with matrix multiplcation rules\n",
    "np.matmul(random_matrix, random_matrix2.T)"
   ]
  },
  {
   "cell_type": "code",
   "execution_count": 14,
   "metadata": {},
   "outputs": [
    {
     "ename": "ValueError",
     "evalue": "matmul: Input operand 1 has a mismatch in its core dimension 0, with gufunc signature (n?,k),(k,m?)->(n?,m?) (size 5 is different from 4)",
     "output_type": "error",
     "traceback": [
      "\u001b[1;31m---------------------------------------------------------------------------\u001b[0m",
      "\u001b[1;31mValueError\u001b[0m                                Traceback (most recent call last)",
      "\u001b[1;32m<ipython-input-14-23b74386814c>\u001b[0m in \u001b[0;36m<module>\u001b[1;34m\u001b[0m\n\u001b[0;32m      1\u001b[0m \u001b[1;31m# what happens if we don't take transposes\u001b[0m\u001b[1;33m\u001b[0m\u001b[1;33m\u001b[0m\u001b[1;33m\u001b[0m\u001b[0m\n\u001b[0;32m      2\u001b[0m \u001b[1;31m# Hint: error\u001b[0m\u001b[1;33m\u001b[0m\u001b[1;33m\u001b[0m\u001b[1;33m\u001b[0m\u001b[0m\n\u001b[1;32m----> 3\u001b[1;33m \u001b[0mnp\u001b[0m\u001b[1;33m.\u001b[0m\u001b[0mmatmul\u001b[0m\u001b[1;33m(\u001b[0m\u001b[0mrandom_matrix\u001b[0m\u001b[1;33m,\u001b[0m \u001b[0mrandom_matrix2\u001b[0m\u001b[1;33m)\u001b[0m\u001b[1;33m\u001b[0m\u001b[1;33m\u001b[0m\u001b[0m\n\u001b[0m",
      "\u001b[1;31mValueError\u001b[0m: matmul: Input operand 1 has a mismatch in its core dimension 0, with gufunc signature (n?,k),(k,m?)->(n?,m?) (size 5 is different from 4)"
     ]
    }
   ],
   "source": [
    "# what happens if we don't take transposes\n",
    "# Hint: error\n",
    "np.matmul(random_matrix, random_matrix2)"
   ]
  },
  {
   "cell_type": "code",
   "execution_count": 15,
   "metadata": {},
   "outputs": [],
   "source": [
    "# now let's make a dataframe from our random matrix\n",
    "df = pd.DataFrame(random_matrix)"
   ]
  },
  {
   "cell_type": "code",
   "execution_count": 16,
   "metadata": {},
   "outputs": [
    {
     "data": {
      "text/html": [
       "<div>\n",
       "<style scoped>\n",
       "    .dataframe tbody tr th:only-of-type {\n",
       "        vertical-align: middle;\n",
       "    }\n",
       "\n",
       "    .dataframe tbody tr th {\n",
       "        vertical-align: top;\n",
       "    }\n",
       "\n",
       "    .dataframe thead th {\n",
       "        text-align: right;\n",
       "    }\n",
       "</style>\n",
       "<table border=\"1\" class=\"dataframe\">\n",
       "  <thead>\n",
       "    <tr style=\"text-align: right;\">\n",
       "      <th></th>\n",
       "      <th>0</th>\n",
       "      <th>1</th>\n",
       "      <th>2</th>\n",
       "      <th>3</th>\n",
       "    </tr>\n",
       "  </thead>\n",
       "  <tbody>\n",
       "    <tr>\n",
       "      <th>0</th>\n",
       "      <td>8.516779</td>\n",
       "      <td>0.989048</td>\n",
       "      <td>8.000836</td>\n",
       "      <td>3.131216</td>\n",
       "    </tr>\n",
       "    <tr>\n",
       "      <th>1</th>\n",
       "      <td>8.980525</td>\n",
       "      <td>1.091227</td>\n",
       "      <td>6.048258</td>\n",
       "      <td>6.449675</td>\n",
       "    </tr>\n",
       "    <tr>\n",
       "      <th>2</th>\n",
       "      <td>6.731682</td>\n",
       "      <td>9.399570</td>\n",
       "      <td>5.975084</td>\n",
       "      <td>1.184586</td>\n",
       "    </tr>\n",
       "    <tr>\n",
       "      <th>3</th>\n",
       "      <td>9.166144</td>\n",
       "      <td>3.111174</td>\n",
       "      <td>6.469668</td>\n",
       "      <td>9.848518</td>\n",
       "    </tr>\n",
       "    <tr>\n",
       "      <th>4</th>\n",
       "      <td>5.325142</td>\n",
       "      <td>2.986695</td>\n",
       "      <td>1.020257</td>\n",
       "      <td>7.919183</td>\n",
       "    </tr>\n",
       "  </tbody>\n",
       "</table>\n",
       "</div>"
      ],
      "text/plain": [
       "          0         1         2         3\n",
       "0  8.516779  0.989048  8.000836  3.131216\n",
       "1  8.980525  1.091227  6.048258  6.449675\n",
       "2  6.731682  9.399570  5.975084  1.184586\n",
       "3  9.166144  3.111174  6.469668  9.848518\n",
       "4  5.325142  2.986695  1.020257  7.919183"
      ]
     },
     "execution_count": 16,
     "metadata": {},
     "output_type": "execute_result"
    }
   ],
   "source": [
    "# let's see how our dataframe looks\n",
    "df.head()"
   ]
  },
  {
   "cell_type": "code",
   "execution_count": 17,
   "metadata": {},
   "outputs": [
    {
     "data": {
      "text/plain": [
       "array([[8.51677901, 0.98904843, 8.00083618, 3.13121623],\n",
       "       [8.9805252 , 1.09122739, 6.04825848, 6.44967519],\n",
       "       [6.73168214, 9.39956961, 5.97508421, 1.18458595],\n",
       "       [9.16614401, 3.1111743 , 6.46966842, 9.84851823],\n",
       "       [5.32514167, 2.98669542, 1.0202569 , 7.919183  ]])"
      ]
     },
     "execution_count": 17,
     "metadata": {},
     "output_type": "execute_result"
    }
   ],
   "source": [
    "# if we want to get a matrix from dataframe\n",
    "df.values"
   ]
  },
  {
   "cell_type": "code",
   "execution_count": 18,
   "metadata": {},
   "outputs": [],
   "source": [
    "# for handling data, we might sometimes prefer dataframes"
   ]
  },
  {
   "cell_type": "code",
   "execution_count": 19,
   "metadata": {},
   "outputs": [
    {
     "data": {
      "text/plain": [
       "[<matplotlib.lines.Line2D at 0x1fa1ccba2c8>]"
      ]
     },
     "execution_count": 19,
     "metadata": {},
     "output_type": "execute_result"
    },
    {
     "data": {
      "image/png": "[encoded data removed]",
      "text/plain": [
       "<Figure size 432x288 with 1 Axes>"
      ]
     },
     "metadata": {
      "needs_background": "light"
     },
     "output_type": "display_data"
    }
   ],
   "source": [
    "# if we want to plot\n",
    "plt.plot(random_matrix[0])"
   ]
  },
  {
   "cell_type": "code",
   "execution_count": 20,
   "metadata": {},
   "outputs": [
    {
     "data": {
      "text/plain": [
       "<matplotlib.collections.PathCollection at 0x1fa1ce24fc8>"
      ]
     },
     "execution_count": 20,
     "metadata": {},
     "output_type": "execute_result"
    },
    {
     "data": {
      "image/png": "[encoded data removed]",
      "text/plain": [
       "<Figure size 432x288 with 1 Axes>"
      ]
     },
     "metadata": {
      "needs_background": "light"
     },
     "output_type": "display_data"
    }
   ],
   "source": [
    "# scatter plot\n",
    "plt.scatter(random_matrix[0], random_matrix[1])"
   ]
  },
  {
   "cell_type": "code",
   "execution_count": 22,
   "metadata": {},
   "outputs": [
    {
     "data": {
      "text/plain": [
       "<matplotlib.collections.PathCollection at 0x1fa1ceb4388>"
      ]
     },
     "execution_count": 22,
     "metadata": {},
     "output_type": "execute_result"
    },
    {
     "data": {
      "image/png": "[encoded data removed]",
      "text/plain": [
       "<Figure size 432x288 with 1 Axes>"
      ]
     },
     "metadata": {
      "needs_background": "light"
     },
     "output_type": "display_data"
    }
   ],
   "source": [
    "# maybe some more points\n",
    "plt.scatter(np.random.uniform(0,1,1000), np.random.uniform(0,1,1000))"
   ]
  },
  {
   "cell_type": "code",
   "execution_count": 23,
   "metadata": {},
   "outputs": [
    {
     "data": {
      "text/plain": [
       "<matplotlib.collections.PathCollection at 0x1fa1cf1b0c8>"
      ]
     },
     "execution_count": 23,
     "metadata": {},
     "output_type": "execute_result"
    },
    {
     "data": {
      "image/png": "[encoded data removed]",
      "text/plain": [
       "<Figure size 432x288 with 1 Axes>"
      ]
     },
     "metadata": {
      "needs_background": "light"
     },
     "output_type": "display_data"
    }
   ],
   "source": [
    "# maybe some more points\n",
    "# this time from normal distribution\n",
    "plt.scatter(np.random.normal(0,1,1000), np.random.normal(0,1,1000))"
   ]
  },
  {
   "cell_type": "code",
   "execution_count": null,
   "metadata": {},
   "outputs": [],
   "source": [
    "# well now you can see how just changing the underlying distribution\n",
    "# of our random numbers can bring a change"
   ]
  }
 ],
 "metadata": {
  "kernelspec": {
   "display_name": "Python 3",
   "language": "python",
   "name": "python3"
  },
  "language_info": {
   "codemirror_mode": {
    "name": "ipython",
    "version": 3
   },
   "file_extension": ".py",
   "mimetype": "text/x-python",
   "name": "python",
   "nbconvert_exporter": "python",
   "pygments_lexer": "ipython3",
   "version": "3.7.9"
  }
 },
 "nbformat": 4,
 "nbformat_minor": 4
}
